{
 "cells": [
  {
   "cell_type": "markdown",
   "metadata": {},
   "source": [
    "### 1 генератор Фибоначи"
   ]
  },
  {
   "cell_type": "code",
   "execution_count": 1,
   "metadata": {},
   "outputs": [],
   "source": [
    "def fib(n):\n",
    "    n0,n1=0,1\n",
    "    for _ in range(n):\n",
    "        yield n1\n",
    "        n0,n1=n1,n0+n1"
   ]
  },
  {
   "cell_type": "code",
   "execution_count": 2,
   "metadata": {},
   "outputs": [
    {
     "name": "stdout",
     "output_type": "stream",
     "text": [
      "1 1 2 3 5 8 13 21 34 55 "
     ]
    }
   ],
   "source": [
    "#первые 10 чисел Фибоначи\n",
    "for f in fib(10):\n",
    "    print(f,end=' ')"
   ]
  },
  {
   "cell_type": "markdown",
   "metadata": {},
   "source": [
    "### 2 Палиндром"
   ]
  },
  {
   "cell_type": "code",
   "execution_count": 3,
   "metadata": {},
   "outputs": [],
   "source": [
    "def is_pal(s):\n",
    "    s=s.replace(' ','').lower()\n",
    "    for n in range(len(s)//2):\n",
    "        if s[n]!=s[-n-1]:\n",
    "            return False\n",
    "    return True"
   ]
  },
  {
   "cell_type": "code",
   "execution_count": 4,
   "metadata": {},
   "outputs": [
    {
     "name": "stdout",
     "output_type": "stream",
     "text": [
      "True True True False True\n"
     ]
    }
   ],
   "source": [
    "print(*map(is_pal,['','2','заказ','123421','А роза упала на лапу Азора']))"
   ]
  },
  {
   "cell_type": "markdown",
   "metadata": {},
   "source": [
    "### 3 Декоратор"
   ]
  },
  {
   "cell_type": "code",
   "execution_count": 5,
   "metadata": {},
   "outputs": [],
   "source": [
    "from datetime import datetime\n",
    "def mesure_time(f,*argp,**argn):\n",
    "    def d(*argp,**argn):\n",
    "        t0=datetime.now()\n",
    "        f(*argp,**argn)\n",
    "        print('Вызов выполнен за время :',datetime.now()-t0)\n",
    "    return d\n",
    "\n",
    "@mesure_time\n",
    "def fun1(p,q,r=9):\n",
    "    print(p,q,r)"
   ]
  },
  {
   "cell_type": "code",
   "execution_count": 6,
   "metadata": {},
   "outputs": [
    {
     "name": "stdout",
     "output_type": "stream",
     "text": [
      "1 2 3\n",
      "Вызов выполнен за время : 0:00:00.000402\n"
     ]
    }
   ],
   "source": [
    "fun1(1,q=2,r=3)"
   ]
  },
  {
   "cell_type": "code",
   "execution_count": 7,
   "metadata": {},
   "outputs": [
    {
     "name": "stdout",
     "output_type": "stream",
     "text": [
      "1 2 3\n",
      "Вызов выполнен за время : 0:00:00.000407\n"
     ]
    }
   ],
   "source": [
    "#вызов с именованными параметрами\n",
    "fun1(p=1,q=2,r=3)"
   ]
  },
  {
   "cell_type": "code",
   "execution_count": 8,
   "metadata": {},
   "outputs": [
    {
     "name": "stdout",
     "output_type": "stream",
     "text": [
      "1 2 3\n",
      "Вызов выполнен за время : 0:00:00.000399\n"
     ]
    }
   ],
   "source": [
    "#вызов с позиционными параметрами\n",
    "fun1(1,2,3)"
   ]
  },
  {
   "cell_type": "code",
   "execution_count": 9,
   "metadata": {},
   "outputs": [
    {
     "name": "stdout",
     "output_type": "stream",
     "text": [
      "1 2 9\n",
      "Вызов выполнен за время : 0:00:00.000201\n"
     ]
    }
   ],
   "source": [
    "#параметр по умолчанию\n",
    "fun1(1,2)"
   ]
  },
  {
   "cell_type": "markdown",
   "metadata": {},
   "source": [
    "### 4 flatten"
   ]
  },
  {
   "cell_type": "code",
   "execution_count": 10,
   "metadata": {},
   "outputs": [],
   "source": [
    "v=[[1,2],[3,4,5],[6]]"
   ]
  },
  {
   "cell_type": "code",
   "execution_count": 11,
   "metadata": {},
   "outputs": [
    {
     "data": {
      "text/plain": [
       "[1, 2, 3, 4, 5, 6]"
      ]
     },
     "execution_count": 11,
     "metadata": {},
     "output_type": "execute_result"
    }
   ],
   "source": [
    "[num for row in v for num in row]"
   ]
  }
 ],
 "metadata": {
  "@webio": {
   "lastCommId": null,
   "lastKernelId": null
  },
  "kernelspec": {
   "display_name": "Python 3",
   "language": "python",
   "name": "python3"
  },
  "language_info": {
   "codemirror_mode": {
    "name": "ipython",
    "version": 3
   },
   "file_extension": ".py",
   "mimetype": "text/x-python",
   "name": "python",
   "nbconvert_exporter": "python",
   "pygments_lexer": "ipython3",
   "version": "3.7.1"
  }
 },
 "nbformat": 4,
 "nbformat_minor": 2
}
