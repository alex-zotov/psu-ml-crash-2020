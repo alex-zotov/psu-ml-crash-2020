{
 "cells": [
  {
   "cell_type": "markdown",
   "metadata": {},
   "source": [
    "### Числа Фибоначи"
   ]
  },
  {
   "cell_type": "markdown",
   "metadata": {},
   "source": [
    "### Задача 1"
   ]
  },
  {
   "cell_type": "code",
   "execution_count": 1,
   "metadata": {},
   "outputs": [],
   "source": [
    "#напечатать первые n чисел фибоначи\n",
    "#n>=1\n",
    "def f0(n):\n",
    "    n0,n1=0,1\n",
    "    for i in range(n):\n",
    "        print(n1,end=', ' if i<n-1 else '')\n",
    "        n0,n1=n1,n0+n1\n"
   ]
  },
  {
   "cell_type": "code",
   "execution_count": 2,
   "metadata": {},
   "outputs": [
    {
     "name": "stdout",
     "output_type": "stream",
     "text": [
      "1, 1, 2, 3, 5, 8"
     ]
    }
   ],
   "source": [
    "f0(6)"
   ]
  },
  {
   "cell_type": "markdown",
   "metadata": {},
   "source": [
    "### Задача 2"
   ]
  },
  {
   "cell_type": "code",
   "execution_count": 3,
   "metadata": {},
   "outputs": [],
   "source": [
    "#печатаем пока не превысили порог n_max\n",
    "def f1(n0,n1,n_max):\n",
    "    print(n0,end=', ')\n",
    "    while True:\n",
    "        print(n1,end='')\n",
    "        n0,n1=n1,n0+n1\n",
    "        if n1<=n_max:\n",
    "            print(', ',end='')\n",
    "        else:\n",
    "            break"
   ]
  },
  {
   "cell_type": "code",
   "execution_count": 4,
   "metadata": {},
   "outputs": [
    {
     "name": "stdout",
     "output_type": "stream",
     "text": [
      "3, 5, 8, 13"
     ]
    }
   ],
   "source": [
    "f1(3,5,15)"
   ]
  },
  {
   "cell_type": "code",
   "execution_count": 5,
   "metadata": {},
   "outputs": [
    {
     "name": "stdout",
     "output_type": "stream",
     "text": [
      "1, 4, 5, 9, 14"
     ]
    }
   ],
   "source": [
    "f1(1,4,14)"
   ]
  }
 ],
 "metadata": {
  "@webio": {
   "lastCommId": null,
   "lastKernelId": null
  },
  "kernelspec": {
   "display_name": "Python 3",
   "language": "python",
   "name": "python3"
  },
  "language_info": {
   "codemirror_mode": {
    "name": "ipython",
    "version": 3
   },
   "file_extension": ".py",
   "mimetype": "text/x-python",
   "name": "python",
   "nbconvert_exporter": "python",
   "pygments_lexer": "ipython3",
   "version": "3.7.1"
  }
 },
 "nbformat": 4,
 "nbformat_minor": 2
}
